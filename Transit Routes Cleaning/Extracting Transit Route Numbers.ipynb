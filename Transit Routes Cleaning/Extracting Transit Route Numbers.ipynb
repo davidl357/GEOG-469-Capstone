{
 "cells": [
  {
   "cell_type": "code",
   "execution_count": 2,
   "metadata": {
    "collapsed": true
   },
   "outputs": [],
   "source": [
    "import pandas as pd\n",
    "import numpy as np\n"
   ]
  },
  {
   "cell_type": "code",
   "execution_count": 3,
   "metadata": {
    "collapsed": true
   },
   "outputs": [],
   "source": [
    "# reads in the csv of bus stops\n",
    "data = pd.read_csv('Transit_Stops_Maple_Valley.csv', encoding = \"ISO-8859-1\", header = 0)\n",
    "\n",
    "# extracts the column that contains route numbers and converts it to a list\n",
    "routesNum = data['ROUTE_LIST'].tolist()\n",
    "\n",
    "\n",
    "# creates a new list with just routes that are stored as strings\n",
    "cleanNum = []\n",
    "\n",
    "for route in routesNum:\n",
    "    if type(route) is str:\n",
    "        cleanNum.append(route)\n",
    "\n",
    "# splits each bus stop route attribute into one entry per route\n",
    "allRoutes = []\n",
    "\n",
    "for num in cleanNum:\n",
    "    individual = num.split()\n",
    "    allRoutes.append(individual)\n",
    "\n",
    "# converts the list of lists that was created into a flat list\n",
    "routeList = []\n",
    "\n",
    "for sublist in allRoutes:\n",
    "    for item in sublist:\n",
    "        routeList.append(item)\n",
    "\n",
    "# creates a dictionary that stores the routes as keys and counts as values\n",
    "routeDic = {}\n",
    "for route in routeList:\n",
    "    routeDic[route] = 0\n",
    "\n",
    "# stores the route as a key if it is not already there and tracks the count\n",
    "for route in routeList:\n",
    "    for key in routeDic.keys():\n",
    "        if route == key:\n",
    "            routeDic[key] = int(routeDic[key]) + 1 \n",
    "\n",
    "# stores keys in a route list and values in a count list\n",
    "route = []\n",
    "count = []\n",
    "\n",
    "for key in routeDic:\n",
    "    route.append(key)\n",
    "    count.append(routeDic.get(key))\n",
    "\n",
    "# combines the route and count lists and converts them into a dataframe\n",
    "routeCounts = list(zip(route, count))\n",
    "\n",
    "auburnDf = pd.DataFrame(data = routeCounts, columns= ['route', 'count'])\n",
    "\n",
    "# sorts the routes in order and export as csv\n",
    "auburnDf.sort_values('route')\n",
    "\n",
    "auburnDf.to_csv('Maple_Valley_bus_route_numbers.csv',index=False)\n"
   ]
  }
 ],
 "metadata": {
  "kernelspec": {
   "display_name": "Python 3",
   "language": "python",
   "name": "python3"
  },
  "language_info": {
   "codemirror_mode": {
    "name": "ipython",
    "version": 3
   },
   "file_extension": ".py",
   "mimetype": "text/x-python",
   "name": "python",
   "nbconvert_exporter": "python",
   "pygments_lexer": "ipython3",
   "version": "3.6.2"
  }
 },
 "nbformat": 4,
 "nbformat_minor": 2
}
